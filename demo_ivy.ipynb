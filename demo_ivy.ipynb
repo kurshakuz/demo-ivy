{
  "nbformat": 4,
  "nbformat_minor": 0,
  "metadata": {
    "colab": {
      "provenance": [],
      "toc_visible": true
    },
    "kernelspec": {
      "name": "python3",
      "display_name": "Python 3"
    },
    "language_info": {
      "name": "python"
    }
  },
  "cells": [
    {
      "cell_type": "markdown",
      "source": [
        "# Installs 💾"
      ],
      "metadata": {
        "id": "jwEdXSBcXCGy"
      }
    },
    {
      "cell_type": "code",
      "execution_count": null,
      "metadata": {
        "id": "GQ18Kd5F3uKe"
      },
      "outputs": [],
      "source": [
        "!pip install ivy-core\n",
        "!pip install torch\n",
        "!pip install matplotlib"
      ]
    },
    {
      "cell_type": "markdown",
      "source": [
        "# Imports 🛃"
      ],
      "metadata": {
        "id": "sekVdg-DW537"
      }
    },
    {
      "cell_type": "code",
      "execution_count": null,
      "metadata": {
        "id": "6A4cYE9wSV2X"
      },
      "outputs": [],
      "source": [
        "import ivy"
      ]
    },
    {
      "cell_type": "markdown",
      "source": [
        "# Ivy as a Unified ML Framework 🔀"
      ],
      "metadata": {
        "id": "GnltH92YDz3h"
      }
    },
    {
      "cell_type": "markdown",
      "source": [
        "Ivy is a unified machine learning framework that aims to provide a single interface for working with various machine learning libraries, such as Numpy, TensorFlow, PyTorch, and Jax. With Ivy, you can use the same code to build and train machine learning models, regardless of the underlying library being used. All you have to do is to change one line of code 😉"
      ],
      "metadata": {
        "id": "Ylfk5mPUD5yZ"
      }
    },
    {
      "cell_type": "markdown",
      "source": [
        "## Change frameworks by one line of code ☝"
      ],
      "metadata": {
        "id": "NTIpyQgJEKK9"
      }
    },
    {
      "cell_type": "markdown",
      "source": [
        "With Ivy, you can define your data and operations just once and easily switch between different frameworks. To do this, simply write your operations in Ivy and use the `ivy.set_framework()` function to change the underlying framework.\n",
        "\n",
        "P.S. there are some more advanced ways of handling backend frameworks in Ivy, so check it out in our [Deep Dive](https://lets-unify.ai/ivy/deep_dive/backend_setting.html)."
      ],
      "metadata": {
        "id": "-IEcpaumIBEh"
      }
    },
    {
      "cell_type": "markdown",
      "source": [
        "### No need to worry about data types 🎨"
      ],
      "metadata": {
        "id": "sCzvaftsG8lc"
      }
    },
    {
      "cell_type": "markdown",
      "source": [
        "Firstly, let's set the backend to Tensorflow"
      ],
      "metadata": {
        "id": "u7pGFgOiF127"
      }
    },
    {
      "cell_type": "code",
      "source": [
        "ivy.set_framework('torch')"
      ],
      "metadata": {
        "id": "El_nUM__D2Ag"
      },
      "execution_count": null,
      "outputs": []
    },
    {
      "cell_type": "code",
      "source": [
        "x = ivy.array([1, 2, 3])\n",
        "y = ivy.array([4, 5, 6])\n",
        "print((type(ivy.to_native(x))))\n",
        "print(ivy.stack((x, y)))"
      ],
      "metadata": {
        "colab": {
          "base_uri": "https://localhost:8080/"
        },
        "id": "A9szEYZqH3C-",
        "outputId": "0eef18b2-4a56-4410-c58b-00e4f0065451"
      },
      "execution_count": null,
      "outputs": [
        {
          "output_type": "stream",
          "name": "stdout",
          "text": [
            "<class 'tensorflow.python.framework.ops.EagerTensor'>\n",
            "tf.Tensor(\n",
            "[[1 2 3]\n",
            " [4 5 6]], shape=(2, 3), dtype=int32)\n"
          ]
        }
      ]
    }
  ]
}